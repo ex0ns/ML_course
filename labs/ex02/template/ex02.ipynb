{
 "cells": [
  {
   "cell_type": "code",
   "execution_count": 171,
   "metadata": {
    "collapsed": false
   },
   "outputs": [
    {
     "name": "stdout",
     "output_type": "stream",
     "text": [
      "The autoreload extension is already loaded. To reload it, use:\n",
      "  %reload_ext autoreload\n"
     ]
    }
   ],
   "source": [
    "# Useful starting lines\n",
    "%matplotlib inline\n",
    "import numpy as np\n",
    "import matplotlib.pyplot as plt\n",
    "%load_ext autoreload\n",
    "%autoreload 2"
   ]
  },
  {
   "cell_type": "markdown",
   "metadata": {},
   "source": [
    "# Load the data"
   ]
  },
  {
   "cell_type": "code",
   "execution_count": 172,
   "metadata": {
    "collapsed": false
   },
   "outputs": [],
   "source": [
    "import datetime\n",
    "from helpers import *\n",
    "\n",
    "height, weight, gender = load_data(sub_sample=True, add_outlier=True)\n",
    "x, mean_x, std_x = standardize(height)\n",
    "y, tx = build_model_data(x, weight)"
   ]
  },
  {
   "cell_type": "code",
   "execution_count": 173,
   "metadata": {
    "collapsed": false
   },
   "outputs": [
    {
     "data": {
      "text/plain": [
       "((202,), (202, 2))"
      ]
     },
     "execution_count": 173,
     "metadata": {},
     "output_type": "execute_result"
    }
   ],
   "source": [
    "y.shape, tx.shape"
   ]
  },
  {
   "cell_type": "markdown",
   "metadata": {},
   "source": [
    "# Computing the Cost Function\n",
    "Fill in the the `compute_cost` function below:"
   ]
  },
  {
   "cell_type": "code",
   "execution_count": 174,
   "metadata": {
    "collapsed": false
   },
   "outputs": [],
   "source": [
    "def compute_loss(y, tx, w, mae = True):\n",
    "    \"\"\"Calculate the loss.\n",
    "\n",
    "    You can calculate the loss using mse or mae.\n",
    "    \"\"\"\n",
    "    loss = 0\n",
    "    N = y.shape[0]\n",
    "    e = y-np.dot(tx,w)\n",
    "    \n",
    "    if not mae:\n",
    "        loss = 1/(2*N) * (np.dot(np.transpose(e),e))\n",
    "    else:\n",
    "        loss = 1/N * np.sum(np.absolute(e))\n",
    "\n",
    "    return loss\n"
   ]
  },
  {
   "cell_type": "markdown",
   "metadata": {},
   "source": [
    "# Grid Search"
   ]
  },
  {
   "cell_type": "markdown",
   "metadata": {},
   "source": [
    "Fill in the function `grid_search()` below:"
   ]
  },
  {
   "cell_type": "code",
   "execution_count": 175,
   "metadata": {
    "collapsed": false
   },
   "outputs": [],
   "source": [
    "def grid_search(y, tx, w0, w1):\n",
    "    \"\"\"Algorithm for grid search.\"\"\"\n",
    "    losses = np.zeros((len(w0), len(w1)))\n",
    "    for idx, i in enumerate(w0):\n",
    "        for idx2, j in enumerate(w1):\n",
    "            losses[idx][idx2] = compute_loss(y, tx, [i,j])\n",
    "    return losses"
   ]
  },
  {
   "cell_type": "markdown",
   "metadata": {},
   "source": [
    "Let us play with the grid search demo now!"
   ]
  },
  {
   "cell_type": "code",
   "execution_count": 176,
   "metadata": {
    "collapsed": false
   },
   "outputs": [
    {
     "name": "stdout",
     "output_type": "stream",
     "text": [
      "Grid Search: loss*=5.350259618178881, w0*=73.36683417085428, w1*=15.829145728643226, execution time=0.768 seconds\n"
     ]
    },
    {
     "data": {
      "image/png": "[encoded data removed]",
      "text/plain": [
       "<matplotlib.figure.Figure at 0x7fe0c315d198>"
      ]
     },
     "metadata": {},
     "output_type": "display_data"
    }
   ],
   "source": [
    "from grid_search import generate_w, get_best_parameters\n",
    "from plots import grid_visualization\n",
    "import datetime\n",
    "\n",
    "# Generate the grid of parameters to be swept\n",
    "grid_w0, grid_w1 = generate_w(num_intervals=200)\n",
    "\n",
    "# Start the grid search\n",
    "start_time = datetime.datetime.now()\n",
    "grid_losses = grid_search(y, tx, grid_w0, grid_w1)\n",
    "\n",
    "# Select the best combinaison\n",
    "loss_star, w0_star, w1_star = get_best_parameters(grid_w0, grid_w1, grid_losses)\n",
    "end_time = datetime.datetime.now()\n",
    "execution_time = (end_time - start_time).total_seconds()\n",
    "\n",
    "# Print the results\n",
    "print(\"Grid Search: loss*={l}, w0*={w0}, w1*={w1}, execution time={t:.3f} seconds\".format(\n",
    "      l=loss_star, w0=w0_star, w1=w1_star, t=execution_time))\n",
    "\n",
    "# Plot the results\n",
    "fig = grid_visualization(grid_losses, grid_w0, grid_w1, mean_x, std_x, height, weight)\n",
    "fig.set_size_inches(10.0,6.0)\n",
    "fig.savefig(\"grid_plot\")  # Optional saving"
   ]
  },
  {
   "cell_type": "markdown",
   "metadata": {},
   "source": [
    "# Gradient Descent"
   ]
  },
  {
   "cell_type": "markdown",
   "metadata": {},
   "source": [
    "Again, please fill in the functions `compute_gradient` below:"
   ]
  },
  {
   "cell_type": "code",
   "execution_count": 177,
   "metadata": {
    "collapsed": true
   },
   "outputs": [],
   "source": [
    "def compute_gradient(y, tx, w):\n",
    "    \"\"\"Compute the gradient.\"\"\"\n",
    "    N = y.shape[0]\n",
    "    e = y-np.dot(tx,w)\n",
    "    \n",
    "    return -1/N * np.dot(np.transpose(tx), np.sign(e))"
   ]
  },
  {
   "cell_type": "markdown",
   "metadata": {},
   "source": [
    "Please fill in the functions `gradient_descent` below:"
   ]
  },
  {
   "cell_type": "code",
   "execution_count": 178,
   "metadata": {
    "collapsed": true
   },
   "outputs": [],
   "source": [
    "def gradient_descent(y, tx, initial_w, max_iters, gamma): \n",
    "    \"\"\"Gradient descent algorithm.\"\"\"\n",
    "    # Define parameters to store w and loss\n",
    "    ws = [initial_w]\n",
    "    losses = []\n",
    "    w = initial_w\n",
    "    for n_iter in range(max_iters):\n",
    "        # ***************************************************\n",
    "        # INSERT YOUR CODE HERE\n",
    "        # TODO: compute gradient and loss\n",
    "        # ***************************************************\n",
    "        grad = compute_gradient(y, tx, w)\n",
    "        loss = compute_loss(y, tx, w)\n",
    "        # ***************************************************\n",
    "        # INSERT YOUR CODE HERE\n",
    "        # TODO: update w by gradient\n",
    "        # ***************************************************\n",
    "        w = w - gamma * grad\n",
    "        # store w and loss\n",
    "        ws.append(np.copy(w))\n",
    "        losses.append(loss)\n",
    "        print(\"Gradient Descent({bi}/{ti}): loss={l}, w0={w0}, w1={w1}\".format(\n",
    "              bi=n_iter, ti=max_iters - 1, l=loss, w0=w[0], w1=w[1]))\n",
    "\n",
    "    return losses, ws"
   ]
  },
  {
   "cell_type": "markdown",
   "metadata": {},
   "source": [
    "Test your gradient descent function through gradient descent demo shown below:"
   ]
  },
  {
   "cell_type": "code",
   "execution_count": 179,
   "metadata": {
    "collapsed": false
   },
   "outputs": [
    {
     "name": "stdout",
     "output_type": "stream",
     "text": [
      "Gradient Descent(0/49): loss=74.06780585492638, w0=0.9, w1=7.855102706902345e-16\n",
      "Gradient Descent(1/49): loss=73.16780585492637, w0=1.8, w1=1.571020541380469e-15\n",
      "Gradient Descent(2/49): loss=72.26780585492638, w0=2.7, w1=2.3565308120707034e-15\n",
      "Gradient Descent(3/49): loss=71.36780585492637, w0=3.6, w1=3.142041082760938e-15\n",
      "Gradient Descent(4/49): loss=70.46780585492637, w0=4.5, w1=3.927551353451173e-15\n",
      "Gradient Descent(5/49): loss=69.56780585492639, w0=5.4, w1=4.7130616241414076e-15\n",
      "Gradient Descent(6/49): loss=68.66780585492639, w0=6.300000000000001, w1=5.498571894831642e-15\n",
      "Gradient Descent(7/49): loss=67.76780585492638, w0=7.200000000000001, w1=6.284082165521877e-15\n",
      "Gradient Descent(8/49): loss=66.86780585492637, w0=8.100000000000001, w1=7.069592436212112e-15\n",
      "Gradient Descent(9/49): loss=65.96780585492637, w0=9.000000000000002, w1=7.855102706902346e-15\n",
      "Gradient Descent(10/49): loss=65.06780585492638, w0=9.900000000000002, w1=8.64061297759258e-15\n",
      "Gradient Descent(11/49): loss=64.16780585492639, w0=10.800000000000002, w1=9.426123248282814e-15\n",
      "Gradient Descent(12/49): loss=63.26780585492637, w0=11.700000000000003, w1=1.0211633518973047e-14\n",
      "Gradient Descent(13/49): loss=62.367805854926374, w0=12.600000000000003, w1=1.0997143789663281e-14\n",
      "Gradient Descent(14/49): loss=61.46780585492636, w0=13.500000000000004, w1=1.1782654060353515e-14\n",
      "Gradient Descent(15/49): loss=60.56780585492638, w0=14.400000000000004, w1=1.256816433104375e-14\n",
      "Gradient Descent(16/49): loss=59.66780585492638, w0=15.300000000000004, w1=1.3353674601733983e-14\n",
      "Gradient Descent(17/49): loss=58.76780585492637, w0=16.200000000000003, w1=1.4139184872424217e-14\n",
      "Gradient Descent(18/49): loss=57.867805854926374, w0=17.1, w1=1.4924695143114453e-14\n",
      "Gradient Descent(19/49): loss=56.967805854926375, w0=18.0, w1=1.5710205413804688e-14\n",
      "Gradient Descent(20/49): loss=56.067805854926384, w0=18.9, w1=1.6495715684494924e-14\n",
      "Gradient Descent(21/49): loss=55.16780585492638, w0=19.799999999999997, w1=1.728122595518516e-14\n",
      "Gradient Descent(22/49): loss=54.26780585492638, w0=20.699999999999996, w1=1.8066736225875395e-14\n",
      "Gradient Descent(23/49): loss=53.36780585492639, w0=21.599999999999994, w1=1.885224649656563e-14\n",
      "Gradient Descent(24/49): loss=52.46780585492638, w0=22.499999999999993, w1=1.9637756767255866e-14\n",
      "Gradient Descent(25/49): loss=51.567805854926384, w0=23.39999999999999, w1=2.04232670379461e-14\n",
      "Gradient Descent(26/49): loss=50.667805854926385, w0=24.29999999999999, w1=2.1208777308636337e-14\n",
      "Gradient Descent(27/49): loss=49.767805854926394, w0=25.19999999999999, w1=2.1994287579326572e-14\n",
      "Gradient Descent(28/49): loss=48.86780585492639, w0=26.099999999999987, w1=2.2779797850016808e-14\n",
      "Gradient Descent(29/49): loss=47.96780585492638, w0=26.999999999999986, w1=2.3565308120707043e-14\n",
      "Gradient Descent(30/49): loss=47.06780585492639, w0=27.899999999999984, w1=2.435081839139728e-14\n",
      "Gradient Descent(31/49): loss=46.1678058549264, w0=28.799999999999983, w1=2.5136328662087514e-14\n",
      "Gradient Descent(32/49): loss=45.2678058549264, w0=29.69999999999998, w1=2.592183893277775e-14\n",
      "Gradient Descent(33/49): loss=44.367805854926395, w0=30.59999999999998, w1=2.6707349203467985e-14\n",
      "Gradient Descent(34/49): loss=43.4678058549264, w0=31.49999999999998, w1=2.749285947415822e-14\n",
      "Gradient Descent(35/49): loss=42.567805854926405, w0=32.39999999999998, w1=2.8278369744848456e-14\n",
      "Gradient Descent(36/49): loss=41.6678058549264, w0=33.299999999999976, w1=2.906388001553869e-14\n",
      "Gradient Descent(37/49): loss=40.7678058549264, w0=34.199999999999974, w1=2.9849390286228924e-14\n",
      "Gradient Descent(38/49): loss=39.8678058549264, w0=35.09999999999997, w1=3.0634900556919157e-14\n",
      "Gradient Descent(39/49): loss=38.967805854926404, w0=35.99999999999997, w1=3.142041082760939e-14\n",
      "Gradient Descent(40/49): loss=38.06780585492641, w0=36.89999999999997, w1=3.220592109829962e-14\n",
      "Gradient Descent(41/49): loss=37.167805854926414, w0=37.79999999999997, w1=3.2991431368989854e-14\n",
      "Gradient Descent(42/49): loss=36.26780585492641, w0=38.69999999999997, w1=3.3776941639680086e-14\n",
      "Gradient Descent(43/49): loss=35.36780585492642, w0=39.599999999999966, w1=3.456245191037032e-14\n",
      "Gradient Descent(44/49): loss=34.46780585492641, w0=40.499999999999964, w1=3.534796218106055e-14\n",
      "Gradient Descent(45/49): loss=33.56780585492641, w0=41.39999999999996, w1=3.613347245175078e-14\n",
      "Gradient Descent(46/49): loss=32.667805854926414, w0=42.29999999999996, w1=3.6918982722441015e-14\n",
      "Gradient Descent(47/49): loss=31.76780585492642, w0=43.19999999999996, w1=3.770449299313125e-14\n",
      "Gradient Descent(48/49): loss=30.867805854926416, w0=44.09999999999996, w1=3.849000326382148e-14\n",
      "Gradient Descent(49/49): loss=29.967805854926418, w0=44.99999999999996, w1=3.927551353451171e-14\n",
      "Gradient Descent: execution time=0.004 seconds\n"
     ]
    }
   ],
   "source": [
    "from plots import gradient_descent_visualization\n",
    "\n",
    "# Define the parameters of the algorithm.\n",
    "max_iters = 50\n",
    "gamma = 0.9\n",
    "\n",
    "# Initialization\n",
    "w_initial = np.array([0.0, 0.0])\n",
    "\n",
    "# Start gradient descent.\n",
    "start_time = datetime.datetime.now()\n",
    "gradient_losses, gradient_ws = gradient_descent(y, tx, w_initial, max_iters, gamma)\n",
    "end_time = datetime.datetime.now()\n",
    "\n",
    "# Print result\n",
    "exection_time = (end_time - start_time).total_seconds()\n",
    "print(\"Gradient Descent: execution time={t:.3f} seconds\".format(t=exection_time))"
   ]
  },
  {
   "cell_type": "code",
   "execution_count": 180,
   "metadata": {
    "collapsed": false
   },
   "outputs": [
    {
     "data": {
      "text/plain": [
       "<function __main__.plot_figure>"
      ]
     },
     "execution_count": 180,
     "metadata": {},
     "output_type": "execute_result"
    },
    {
     "data": {
      "image/png": "[encoded data removed]",
      "text/plain": [
       "<matplotlib.figure.Figure at 0x7fe0c331bba8>"
      ]
     },
     "metadata": {},
     "output_type": "display_data"
    }
   ],
   "source": [
    "# Time Visualization\n",
    "from ipywidgets import IntSlider, interact\n",
    "def plot_figure(n_iter):\n",
    "    fig = gradient_descent_visualization(\n",
    "        gradient_losses, gradient_ws, grid_losses, grid_w0, grid_w1, mean_x, std_x, height, weight, n_iter)\n",
    "    fig.set_size_inches(10.0, 6.0)\n",
    "\n",
    "interact(plot_figure, n_iter=IntSlider(min=1, max=len(gradient_ws)))"
   ]
  },
  {
   "cell_type": "markdown",
   "metadata": {},
   "source": [
    "# Stochastic gradient descent"
   ]
  },
  {
   "cell_type": "code",
   "execution_count": 181,
   "metadata": {
    "collapsed": true
   },
   "outputs": [],
   "source": [
    "def compute_stoch_gradient(y, tx, w):\n",
    "    \"\"\"Compute a stochastic gradient for batch data.\"\"\"\n",
    "    N = y.shape[0]\n",
    "    e = y-np.dot(tx,w)\n",
    "\n",
    "    return -1/N * np.dot(np.transpose(tx), e)\n",
    "\n",
    "\n",
    "def stochastic_gradient_descent(\n",
    "        y, tx, initial_w, batch_size, max_epochs, gamma):\n",
    "    losses = []\n",
    "    ws = [initial_w]\n",
    "    w = initial_w\n",
    "    for n_iter in range(max_epochs):\n",
    "        for minibatch_y, minibatch_tx in batch_iter(y, tx, batch_size):\n",
    "            grad = compute_stoch_gradient(minibatch_y, minibatch_tx, w)\n",
    "            loss = compute_loss(y, tx, w)\n",
    "            losses.append(loss)\n",
    "\n",
    "            w = w - gamma * grad\n",
    "            ws.append(w)\n",
    "    return losses, ws"
   ]
  },
  {
   "cell_type": "code",
   "execution_count": 182,
   "metadata": {
    "collapsed": false
   },
   "outputs": [
    {
     "name": "stdout",
     "output_type": "stream",
     "text": [
      "SGD: execution time=0.007 seconds\n"
     ]
    }
   ],
   "source": [
    "# Define the parameters of the algorithm.\n",
    "max_iters = 50\n",
    "gamma = 0.4\n",
    "batch_size = 4\n",
    "\n",
    "# Initialization\n",
    "w_initial = np.array([0.0, 0.0])\n",
    "\n",
    "# Start SGD.\n",
    "start_time = datetime.datetime.now()\n",
    "gradient_losses, gradient_ws = stochastic_gradient_descent(\n",
    "    y, tx, w_initial, batch_size, max_iters, gamma)\n",
    "end_time = datetime.datetime.now()\n",
    "\n",
    "# Print result\n",
    "exection_time = (end_time - start_time).total_seconds()\n",
    "print(\"SGD: execution time={t:.3f} seconds\".format(t=exection_time))"
   ]
  },
  {
   "cell_type": "code",
   "execution_count": 183,
   "metadata": {
    "collapsed": false
   },
   "outputs": [
    {
     "data": {
      "text/plain": [
       "<function __main__.plot_figure>"
      ]
     },
     "execution_count": 183,
     "metadata": {},
     "output_type": "execute_result"
    },
    {
     "data": {
      "image/png": "[encoded data removed]",
      "text/plain": [
       "<matplotlib.figure.Figure at 0x7fe0c32922e8>"
      ]
     },
     "metadata": {},
     "output_type": "display_data"
    }
   ],
   "source": [
    "# Time Visualization\n",
    "from ipywidgets import IntSlider, interact\n",
    "def plot_figure(n_iter):\n",
    "    fig = gradient_descent_visualization(\n",
    "        gradient_losses, gradient_ws, grid_losses, grid_w0, grid_w1, mean_x, std_x, height, weight, n_iter)\n",
    "    fig.set_size_inches(10.0, 6.0)\n",
    "\n",
    "interact(plot_figure, n_iter=IntSlider(min=1, max=len(gradient_ws)))"
   ]
  },
  {
   "cell_type": "code",
   "execution_count": null,
   "metadata": {
    "collapsed": true
   },
   "outputs": [],
   "source": [
    "\n"
   ]
  }
 ],
 "metadata": {
  "anaconda-cloud": {},
  "kernelspec": {
   "display_name": "Python [Root]",
   "language": "python",
   "name": "Python [Root]"
  },
  "language_info": {
   "codemirror_mode": {
    "name": "ipython",
    "version": 3
   },
   "file_extension": ".py",
   "mimetype": "text/x-python",
   "name": "python",
   "nbconvert_exporter": "python",
   "pygments_lexer": "ipython3",
   "version": "3.5.1"
  }
 },
 "nbformat": 4,
 "nbformat_minor": 0
}

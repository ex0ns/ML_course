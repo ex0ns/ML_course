{
 "cells": [
  {
   "cell_type": "code",
   "execution_count": 23,
   "metadata": {
    "collapsed": false
   },
   "outputs": [
    {
     "name": "stdout",
     "output_type": "stream",
     "text": [
      "The autoreload extension is already loaded. To reload it, use:\n",
      "  %reload_ext autoreload\n"
     ]
    }
   ],
   "source": [
    "# Useful starting lines\n",
    "%matplotlib inline\n",
    "import numpy as np\n",
    "import matplotlib.pyplot as plt\n",
    "%load_ext autoreload\n",
    "%autoreload 2"
   ]
  },
  {
   "cell_type": "markdown",
   "metadata": {},
   "source": [
    "# Least squares and linear basis functions models\n",
    "## Least squares"
   ]
  },
  {
   "cell_type": "code",
   "execution_count": 24,
   "metadata": {
    "collapsed": true
   },
   "outputs": [],
   "source": [
    "def compute_loss(y, tx, w, mae = False):\n",
    "    \"\"\"Calculate the loss.\n",
    "\n",
    "    You can calculate the loss using mse or mae.\n",
    "    \"\"\"\n",
    "    loss = 0\n",
    "    N = y.shape[0]\n",
    "    e = y-np.dot(tx,w)\n",
    "    \n",
    "    if mae:\n",
    "        loss = 1/N * np.sum(np.absolute(e))\n",
    "    else:\n",
    "        loss = 1/(2*N) * (np.dot(np.transpose(e),e))\n",
    "\n",
    "    return loss\n"
   ]
  },
  {
   "cell_type": "code",
   "execution_count": 25,
   "metadata": {
    "collapsed": false
   },
   "outputs": [],
   "source": [
    "def least_squares(y, tx):\n",
    "    w = np.linalg.pinv(tx).dot(y) # np.linalg.inv(tx.T.dot(tx)).dot(tx.T).dot(y)\n",
    "    #return w, compute_loss(y, tx, w)\n",
    "    return w, compute_loss(y, tx, w)"
   ]
  },
  {
   "cell_type": "markdown",
   "metadata": {},
   "source": [
    "### Load the data\n",
    "Here we will reuse the dataset `height_weight_genders.csv` from previous exercise section to check the correctness of your implementation. Please compare it with your previous result."
   ]
  },
  {
   "cell_type": "code",
   "execution_count": 26,
   "metadata": {
    "collapsed": true
   },
   "outputs": [],
   "source": [
    "def grid_search(y, tx, w0, w1):\n",
    "    \"\"\"Algorithm for grid search.\"\"\"\n",
    "    losses = np.zeros((len(w0), len(w1)))\n",
    "    for idx, i in enumerate(w0):\n",
    "        for idx2, j in enumerate(w1):\n",
    "            losses[idx][idx2] = compute_loss(y, tx, [i,j])\n",
    "    return losses"
   ]
  },
  {
   "cell_type": "code",
   "execution_count": 27,
   "metadata": {
    "collapsed": true
   },
   "outputs": [],
   "source": [
    "def compute_gradient(y, tx, w):\n",
    "    \"\"\"Compute the gradient.\"\"\"\n",
    "    N = y.shape[0]\n",
    "    e = y-np.dot(tx,w)\n",
    "    \n",
    "    return -1/N * np.dot(np.transpose(tx), e)\n",
    "\n",
    "def gradient_descent(y, tx, initial_w, max_iters, gamma): \n",
    "    \"\"\"Gradient descent algorithm.\"\"\"\n",
    "    # Define parameters to store w and loss\n",
    "    ws = [initial_w]\n",
    "    losses = []\n",
    "    w = initial_w\n",
    "    for n_iter in range(max_iters):\n",
    "        grad = compute_gradient(y, tx, w)\n",
    "        loss = compute_loss(y, tx, w)\n",
    "        w = w - gamma * grad\n",
    "        # store w and loss\n",
    "        ws.append(np.copy(w))\n",
    "        losses.append(loss)\n",
    "        print(\"Gradient Descent({bi}/{ti}): loss={l}, w0={w0}, w1={w1}\".format(\n",
    "              bi=n_iter, ti=max_iters - 1, l=loss, w0=w[0], w1=w[1]))\n",
    "\n",
    "    return losses, ws"
   ]
  },
  {
   "cell_type": "code",
   "execution_count": 28,
   "metadata": {
    "collapsed": false
   },
   "outputs": [
    {
     "name": "stdout",
     "output_type": "stream",
     "text": [
      "Gradient Descent(0/49): loss=2792.2367127591665, w0=29.317568800842015, w1=5.391884973995655\n",
      "Gradient Descent(1/49): loss=1015.0521848293532, w0=46.90811008134726, w1=8.627015958393002\n",
      "Gradient Descent(2/49): loss=375.26575477461887, w0=57.46243484965045, w1=10.568094549031404\n",
      "Gradient Descent(3/49): loss=144.94263995491326, w0=63.79502971063234, w1=11.732741703414456\n",
      "Gradient Descent(4/49): loss=62.026318619819655, w0=67.59458662722147, w1=12.431529996044297\n",
      "Gradient Descent(5/49): loss=32.176442939185925, w0=69.87432077717496, w1=12.85080297162219\n",
      "Gradient Descent(6/49): loss=21.43048769415777, w0=71.24216126714705, w1=13.10236675696893\n",
      "Gradient Descent(7/49): loss=17.5619438059476, w0=72.06286556113031, w1=13.253305028176976\n",
      "Gradient Descent(8/49): loss=16.169268006191956, w0=72.55528813752026, w1=13.343867990901805\n",
      "Gradient Descent(9/49): loss=15.667904718279921, w0=72.85074168335424, w1=13.398205768536702\n",
      "Gradient Descent(10/49): loss=15.487413934631583, w0=73.02801381085462, w1=13.43080843511764\n",
      "Gradient Descent(11/49): loss=15.42243725251819, w0=73.13437708735485, w1=13.450370035066204\n",
      "Gradient Descent(12/49): loss=15.399045646957367, w0=73.19819505325499, w1=13.462106995035342\n",
      "Gradient Descent(13/49): loss=15.390624668955466, w0=73.23648583279507, w1=13.469149171016824\n",
      "Gradient Descent(14/49): loss=15.387593116874786, w0=73.25946030051912, w1=13.473374476605713\n",
      "Gradient Descent(15/49): loss=15.386501758125739, w0=73.27324498115355, w1=13.475909659959047\n",
      "Gradient Descent(16/49): loss=15.386108868976084, w0=73.28151578953421, w1=13.477430769971047\n",
      "Gradient Descent(17/49): loss=15.385967428882209, w0=73.2864782745626, w1=13.478343435978248\n",
      "Gradient Descent(18/49): loss=15.38591651044841, w0=73.28945576557963, w1=13.478891035582569\n",
      "Gradient Descent(19/49): loss=15.385898179812248, w0=73.29124226018986, w1=13.47921959534516\n",
      "Gradient Descent(20/49): loss=15.385891580783227, w0=73.292314156956, w1=13.479416731202715\n",
      "Gradient Descent(21/49): loss=15.385889205132775, w0=73.29295729501567, w1=13.479535012717248\n",
      "Gradient Descent(22/49): loss=15.385888349898615, w0=73.29334317785148, w1=13.479605981625967\n",
      "Gradient Descent(23/49): loss=15.38588804201432, w0=73.29357470755296, w1=13.4796485629712\n",
      "Gradient Descent(24/49): loss=15.385887931175967, w0=73.29371362537385, w1=13.479674111778339\n",
      "Gradient Descent(25/49): loss=15.385887891274162, w0=73.29379697606639, w1=13.479689441062623\n",
      "Gradient Descent(26/49): loss=15.385887876909514, w0=73.29384698648191, w1=13.479698638633193\n",
      "Gradient Descent(27/49): loss=15.38588787173825, w0=73.29387699273123, w1=13.479704157175535\n",
      "Gradient Descent(28/49): loss=15.385887869876584, w0=73.29389499648082, w1=13.47970746830094\n",
      "Gradient Descent(29/49): loss=15.385887869206385, w0=73.29390579873056, w1=13.479709454976184\n",
      "Gradient Descent(30/49): loss=15.385887868965115, w0=73.29391228008042, w1=13.47971064698133\n",
      "Gradient Descent(31/49): loss=15.385887868878264, w0=73.29391616889033, w1=13.479711362184418\n",
      "Gradient Descent(32/49): loss=15.38588786884699, w0=73.29391850217627, w1=13.47971179130627\n",
      "Gradient Descent(33/49): loss=15.38588786883573, w0=73.29391990214783, w1=13.479712048779382\n",
      "Gradient Descent(34/49): loss=15.38588786883168, w0=73.29392074213078, w1=13.479712203263249\n",
      "Gradient Descent(35/49): loss=15.385887868830219, w0=73.29392124612055, w1=13.479712295953568\n",
      "Gradient Descent(36/49): loss=15.385887868829695, w0=73.2939215485144, w1=13.47971235156776\n",
      "Gradient Descent(37/49): loss=15.385887868829503, w0=73.29392172995071, w1=13.479712384936276\n",
      "Gradient Descent(38/49): loss=15.385887868829444, w0=73.29392183881251, w1=13.479712404957384\n",
      "Gradient Descent(39/49): loss=15.385887868829416, w0=73.29392190412958, w1=13.47971241697005\n",
      "Gradient Descent(40/49): loss=15.385887868829398, w0=73.29392194331982, w1=13.47971242417765\n",
      "Gradient Descent(41/49): loss=15.385887868829402, w0=73.29392196683396, w1=13.479712428502209\n",
      "Gradient Descent(42/49): loss=15.385887868829403, w0=73.29392198094246, w1=13.479712431096944\n",
      "Gradient Descent(43/49): loss=15.385887868829402, w0=73.29392198940755, w1=13.479712432653786\n",
      "Gradient Descent(44/49): loss=15.385887868829398, w0=73.29392199448661, w1=13.47971243358789\n",
      "Gradient Descent(45/49): loss=15.385887868829398, w0=73.29392199753404, w1=13.479712434148354\n",
      "Gradient Descent(46/49): loss=15.385887868829402, w0=73.2939219993625, w1=13.479712434484632\n",
      "Gradient Descent(47/49): loss=15.385887868829403, w0=73.29392200045957, w1=13.479712434686398\n",
      "Gradient Descent(48/49): loss=15.385887868829403, w0=73.29392200111782, w1=13.479712434807459\n",
      "Gradient Descent(49/49): loss=15.385887868829398, w0=73.29392200151277, w1=13.479712434880094\n",
      "Least square lost:  15.3858878688 , w0= 73.2939220021 , w1= 13.479712435\n"
     ]
    }
   ],
   "source": [
    "from helpers import *\n",
    "from grid_search import generate_w, get_best_parameters\n",
    "\n",
    "def test_your_least_squares():\n",
    "    height, weight, gender = load_data_from_ex02(sub_sample=False, add_outlier=False)\n",
    "    x, mean_x, std_x = standardize(height)\n",
    "    y, tx = build_model_data(x, weight)\n",
    "    \n",
    "    w, losses = least_squares(y, tx)\n",
    "    \n",
    "    grid_w0, grid_w1 = generate_w(num_intervals=200)\n",
    "    grid_losses = grid_search(y, tx, grid_w0, grid_w1)\n",
    "    \n",
    "    max_iters = 50\n",
    "    gamma = 0.4\n",
    "\n",
    "    # Initialization\n",
    "    w_initial = np.array([0.0, 0.0])\n",
    "\n",
    "    # Start gradient descent.\n",
    "    gradient_losses, gradient_ws = gradient_descent(y, tx, w_initial, max_iters, gamma)\n",
    "    print(\"Least square lost: \", losses, \", w0=\", w[0], \", w1=\", w[1])\n",
    "    \n",
    "\n",
    "test_your_least_squares()"
   ]
  },
  {
   "cell_type": "markdown",
   "metadata": {},
   "source": [
    "## Least squares with a linear basis function model\n",
    "Start from this section, we will use the dataset `dataEx3.csv`.\n",
    "\n",
    "### Implement polynomial basis functions"
   ]
  },
  {
   "cell_type": "code",
   "execution_count": 29,
   "metadata": {
    "collapsed": false,
    "scrolled": true
   },
   "outputs": [
    {
     "name": "stdout",
     "output_type": "stream",
     "text": [
      "shape of x (50,)\n",
      "shape of y (50,)\n"
     ]
    }
   ],
   "source": [
    "# load dataset\n",
    "x, y = load_data()\n",
    "print(\"shape of x {}\".format(x.shape))\n",
    "print(\"shape of y {}\".format(y.shape))"
   ]
  },
  {
   "cell_type": "code",
   "execution_count": 30,
   "metadata": {
    "collapsed": true
   },
   "outputs": [],
   "source": [
    "def build_poly(x, degree):\n",
    "    \"\"\"polynomial basis functions for input data x, for j=0 up to j=degree.\"\"\"\n",
    "    return np.array([[line**deg for deg in range(degree+1)] for line in x])"
   ]
  },
  {
   "cell_type": "markdown",
   "metadata": {},
   "source": [
    "Let us play with polynomial regression. Note that we will use your implemented function `compute_mse`. Please copy and paste your implementation from exercise02."
   ]
  },
  {
   "cell_type": "code",
   "execution_count": 31,
   "metadata": {
    "collapsed": false
   },
   "outputs": [
    {
     "name": "stdout",
     "output_type": "stream",
     "text": [
      "Processing 1th experiment, degree=1, rmse=0.47187607963421874\n",
      "Processing 2th experiment, degree=3, rmse=0.25858277667737506\n",
      "Processing 3th experiment, degree=7, rmse=0.24965870360907552\n",
      "Processing 4th experiment, degree=12, rmse=0.2403250746517712\n"
     ]
    },
    {
     "data": {
      "image/png": "[encoded data removed]",
      "text/plain": [
       "<matplotlib.figure.Figure at 0x7f587626ac88>"
      ]
     },
     "metadata": {},
     "output_type": "display_data"
    }
   ],
   "source": [
    "from plots import *\n",
    "\n",
    "def polynomial_regression():\n",
    "    \"\"\"Constructing the polynomial basis function expansion of the data,\n",
    "       and then running least squares regression.\"\"\"\n",
    "    # define parameters\n",
    "    degrees = [1, 3, 7, 12]\n",
    "    \n",
    "    # define the structure of figure\n",
    "    num_row = 2\n",
    "    num_col = 2\n",
    "    f, axs = plt.subplots(num_row, num_col)\n",
    "\n",
    "    for ind, degree in enumerate(degrees):\n",
    "        basis = build_poly(x, degree)\n",
    "        weight, losses = least_squares(y, basis)\n",
    "        rmse = np.sqrt(2*compute_loss(y, basis, weight))\n",
    "\n",
    "        print(\"Processing {i}th experiment, degree={d}, rmse={loss}\".format(\n",
    "              i=ind + 1, d=degree, loss=rmse))\n",
    "        # plot fit\n",
    "        plot_fitted_curve(\n",
    "            y, x, weight, degree, axs[ind // num_col][ind % num_col])\n",
    "    plt.tight_layout()\n",
    "    plt.savefig(\"visualize_polynomial_regression\")\n",
    "    plt.show()\n",
    "\n",
    "\n",
    "polynomial_regression()"
   ]
  },
  {
   "cell_type": "markdown",
   "metadata": {},
   "source": [
    "# Evaluating model predication performance\n",
    "\n",
    "Let us show the train and test splits for various polynomial degrees. First of all, please fill in the function `split_data()`"
   ]
  },
  {
   "cell_type": "code",
   "execution_count": 32,
   "metadata": {
    "collapsed": false
   },
   "outputs": [],
   "source": [
    "def split_data(x, y, ratio, seed=1):\n",
    "    \"\"\"split the dataset based on the split ratio.\"\"\"\n",
    "    # set seed\n",
    "    np.random.seed(seed)\n",
    "    indices = np.arange(x.shape[0])\n",
    "    np.random.shuffle(indices)\n",
    "    # np.random.permutation\n",
    "\n",
    "    number = int(x.shape[0]*ratio)\n",
    "    trainingX = np.array([x[i] for i in indices[:number]])\n",
    "    trainingY = np.array([y[i] for i in indices[:number]])\n",
    "\n",
    "    testX = np.array([x[i] for i in indices[number:]])\n",
    "    testY = np.array([y[i] for i in indices[number:]])\n",
    "    assert(trainingX.shape[0] + testX.shape[0] == x.shape[0])\n",
    "    \n",
    "    return trainingX, trainingY, testX, testY\n",
    "    \n"
   ]
  },
  {
   "cell_type": "markdown",
   "metadata": {},
   "source": [
    "Then, test your `split_data` function below."
   ]
  },
  {
   "cell_type": "code",
   "execution_count": 33,
   "metadata": {
    "collapsed": false
   },
   "outputs": [
    {
     "name": "stdout",
     "output_type": "stream",
     "text": [
      "proportion=0.9, degree=1, Training RMSE=0.494, Testing RMSE=0.181\n",
      "proportion=0.9, degree=3, Training RMSE=0.264, Testing RMSE=0.206\n",
      "proportion=0.9, degree=7, Training RMSE=0.254, Testing RMSE=0.220\n",
      "proportion=0.9, degree=12, Training RMSE=0.242, Testing RMSE=0.250\n",
      "proportion=0.5, degree=1, Training RMSE=0.455, Testing RMSE=0.531\n",
      "proportion=0.5, degree=3, Training RMSE=0.239, Testing RMSE=0.296\n",
      "proportion=0.5, degree=7, Training RMSE=0.232, Testing RMSE=0.284\n",
      "proportion=0.5, degree=12, Training RMSE=0.205, Testing RMSE=1.065\n",
      "proportion=0.1, degree=1, Training RMSE=0.428, Testing RMSE=0.534\n",
      "proportion=0.1, degree=3, Training RMSE=0.085, Testing RMSE=0.460\n",
      "proportion=0.1, degree=7, Training RMSE=0.000, Testing RMSE=2.202\n",
      "proportion=0.1, degree=12, Training RMSE=0.000, Testing RMSE=10.218\n"
     ]
    }
   ],
   "source": [
    "def train_test_split_demo(x, y, degree, ratio, seed):\n",
    "    \"\"\"polynomial regression with different split ratios and different degrees.\"\"\"\n",
    "    trainX, trainY, testX, testY = split_data(x, y, ratio, seed)\n",
    "   \n",
    "    trainPoly = build_poly(trainX, degree)\n",
    "    testPoly = build_poly(testX, degree)\n",
    "    \n",
    "    weight, losses = least_squares(trainY, trainPoly)\n",
    "    \n",
    "    rmse_tr = np.sqrt(2*compute_loss(trainY, trainPoly, weight))\n",
    "    rmse_te = np.sqrt(2*compute_loss(testY, testPoly, weight))\n",
    "\n",
    "    \n",
    "    print(\"proportion={p}, degree={d}, Training RMSE={tr:.3f}, Testing RMSE={te:.3f}\".format(\n",
    "          p=ratio, d=degree, tr=rmse_tr, te=rmse_te))\n",
    "\n",
    "seed = 6\n",
    "degrees = [1, 3, 7, 12]\n",
    "split_ratios = [0.9, 0.5, 0.1]\n",
    "\n",
    "for split_ratio in split_ratios:\n",
    "    for degree in degrees:\n",
    "        train_test_split_demo(x, y, degree, split_ratio, seed)"
   ]
  },
  {
   "cell_type": "markdown",
   "metadata": {},
   "source": [
    "# Ridge Regression\n",
    "Please fill in the function below."
   ]
  },
  {
   "cell_type": "code",
   "execution_count": 34,
   "metadata": {
    "collapsed": true
   },
   "outputs": [],
   "source": [
    "def ridge_regression(y, tx, lamb):\n",
    "    \"\"\"implement ridge regression.\"\"\"\n",
    "    ident = np.eye(tx.shape[1])*lamb\n",
    "    return np.linalg.inv(tx.T.dot(tx)+ident).dot(tx.T).dot(y)\n"
   ]
  },
  {
   "cell_type": "code",
   "execution_count": 35,
   "metadata": {
    "collapsed": false
   },
   "outputs": [
    {
     "data": {
      "image/png": "[encoded data removed]",
      "text/plain": [
       "<matplotlib.figure.Figure at 0x7f587612fb00>"
      ]
     },
     "metadata": {},
     "output_type": "display_data"
    }
   ],
   "source": [
    "### import matplotlib.pyplot as plt\n",
    "def ridge_regression_demo(x, y, degree, ratio, seed):\n",
    "    \"\"\"ridge regression demo.\"\"\"\n",
    "    # define parameter\n",
    "    lambdas = np.logspace(-3, 1, 10) \n",
    "   \n",
    "    trainX, trainY, testX, testY = split_data(x, y, ratio, seed)\n",
    "    trainPoly = build_poly(trainX, degree)\n",
    "    testPoly = build_poly(testX, degree)\n",
    "\n",
    "    \n",
    "    errorsTR = []\n",
    "    errorsTE = []\n",
    "    \n",
    "    for lam in lambdas:\n",
    "        w = ridge_regression(trainY, trainPoly, lam)\n",
    "        rmse_tr = np.sqrt(2*compute_loss(trainY, trainPoly, w))\n",
    "        rmse_te = np.sqrt(2*compute_loss(testY, testPoly, w))\n",
    "        \n",
    "       # print(\"Training:\", rmse_tr, \"Testing:\",rmse_te)\n",
    "        \n",
    "        errorsTR.append(rmse_tr)\n",
    "        errorsTE.append(rmse_te)\n",
    "        \n",
    "    plt.semilogx(lambdas, errorsTR, '-o', lambdas, errorsTE,'-o', lw=1)\n",
    "    plt.show()   \n",
    "    \n",
    "seed = 6\n",
    "degree = 7\n",
    "split_ratio = 0.5\n",
    "  \n",
    "ridge_regression_demo(x, y, degree, split_ratio, seed)"
   ]
  },
  {
   "cell_type": "code",
   "execution_count": null,
   "metadata": {
    "collapsed": true
   },
   "outputs": [],
   "source": []
  },
  {
   "cell_type": "code",
   "execution_count": null,
   "metadata": {
    "collapsed": true
   },
   "outputs": [],
   "source": []
  }
 ],
 "metadata": {
  "anaconda-cloud": {},
  "kernelspec": {
   "display_name": "Python [Root]",
   "language": "python",
   "name": "Python [Root]"
  },
  "language_info": {
   "codemirror_mode": {
    "name": "ipython",
    "version": 3
   },
   "file_extension": ".py",
   "mimetype": "text/x-python",
   "name": "python",
   "nbconvert_exporter": "python",
   "pygments_lexer": "ipython3",
   "version": "3.5.1"
  }
 },
 "nbformat": 4,
 "nbformat_minor": 0
}

{
 "cells": [
  {
   "cell_type": "code",
   "execution_count": 185,
   "metadata": {
    "collapsed": false
   },
   "outputs": [
    {
     "name": "stdout",
     "output_type": "stream",
     "text": [
      "The autoreload extension is already loaded. To reload it, use:\n",
      "  %reload_ext autoreload\n"
     ]
    }
   ],
   "source": [
    "%matplotlib inline\n",
    "import numpy as np\n",
    "import scipy as sc\n",
    "import matplotlib.pyplot as plt\n",
    "%load_ext autoreload\n",
    "%autoreload 2"
   ]
  },
  {
   "cell_type": "markdown",
   "metadata": {},
   "source": [
    "Data Generation\n",
    "==="
   ]
  },
  {
   "cell_type": "code",
   "execution_count": 186,
   "metadata": {
    "collapsed": false
   },
   "outputs": [
    {
     "name": "stdout",
     "output_type": "stream",
     "text": [
      "[[ 0.77132064  0.02075195]\n",
      " [ 0.63364823  0.74880388]\n",
      " [ 0.49850701  0.22479665]\n",
      " [ 0.19806286  0.76053071]] \n",
      "\n",
      " [[ 0.16911084  0.08833981]\n",
      " [ 0.68535982  0.95339335]\n",
      " [ 0.00394827  0.51219226]\n",
      " [ 0.81262096  0.61252607]\n",
      " [ 0.72175532  0.29187607]]\n"
     ]
    }
   ],
   "source": [
    "np.random.seed(10)\n",
    "p, q = (np.random.rand(i, 2) for i in (4, 5))\n",
    "p_big, q_big = (np.random.rand(i, 80) for i in (100, 120))\n",
    "\n",
    "print(p, \"\\n\\n\", q)"
   ]
  },
  {
   "cell_type": "markdown",
   "metadata": {},
   "source": [
    "Solution\n",
    "==="
   ]
  },
  {
   "cell_type": "code",
   "execution_count": 187,
   "metadata": {
    "collapsed": false
   },
   "outputs": [],
   "source": [
    "def naive(p, q):\n",
    "    mat = np.zeros([p.shape[0], q.shape[0]])\n",
    "    for i in range(p.shape[0]):\n",
    "        for j in range(q.shape[0]):\n",
    "            mat[i][j] = sc.spatial.distance.euclidean(p[i], q[j])\n",
    "    return mat\n",
    "    \n"
   ]
  },
  {
   "cell_type": "markdown",
   "metadata": {},
   "source": [
    "### Use matching indices\n",
    "\n",
    "Instead of iterating through indices, one can use them directly to parallelize the operations with Numpy."
   ]
  },
  {
   "cell_type": "code",
   "execution_count": 188,
   "metadata": {
    "collapsed": false
   },
   "outputs": [
    {
     "name": "stdout",
     "output_type": "stream",
     "text": [
      "[[0 0 0 0 0]\n",
      " [1 1 1 1 1]\n",
      " [2 2 2 2 2]\n",
      " [3 3 3 3 3]]\n",
      "\n",
      "[[0 1 2 3 4]\n",
      " [0 1 2 3 4]\n",
      " [0 1 2 3 4]\n",
      " [0 1 2 3 4]]\n"
     ]
    }
   ],
   "source": [
    "rows, cols = np.indices((p.shape[0], q.shape[0]))\n",
    "print(rows, end='\\n\\n')\n",
    "print(cols)"
   ]
  },
  {
   "cell_type": "code",
   "execution_count": 189,
   "metadata": {
    "collapsed": false
   },
   "outputs": [
    {
     "name": "stdout",
     "output_type": "stream",
     "text": [
      "[[ 0.77132064  0.02075195]\n",
      " [ 0.77132064  0.02075195]\n",
      " [ 0.77132064  0.02075195]\n",
      " [ 0.77132064  0.02075195]\n",
      " [ 0.77132064  0.02075195]\n",
      " [ 0.63364823  0.74880388]\n",
      " [ 0.63364823  0.74880388]\n",
      " [ 0.63364823  0.74880388]\n",
      " [ 0.63364823  0.74880388]\n",
      " [ 0.63364823  0.74880388]\n",
      " [ 0.49850701  0.22479665]\n",
      " [ 0.49850701  0.22479665]\n",
      " [ 0.49850701  0.22479665]\n",
      " [ 0.49850701  0.22479665]\n",
      " [ 0.49850701  0.22479665]\n",
      " [ 0.19806286  0.76053071]\n",
      " [ 0.19806286  0.76053071]\n",
      " [ 0.19806286  0.76053071]\n",
      " [ 0.19806286  0.76053071]\n",
      " [ 0.19806286  0.76053071]]\n",
      "\n",
      "[[ 0.16911084  0.08833981]\n",
      " [ 0.68535982  0.95339335]\n",
      " [ 0.00394827  0.51219226]\n",
      " [ 0.81262096  0.61252607]\n",
      " [ 0.72175532  0.29187607]\n",
      " [ 0.16911084  0.08833981]\n",
      " [ 0.68535982  0.95339335]\n",
      " [ 0.00394827  0.51219226]\n",
      " [ 0.81262096  0.61252607]\n",
      " [ 0.72175532  0.29187607]\n",
      " [ 0.16911084  0.08833981]\n",
      " [ 0.68535982  0.95339335]\n",
      " [ 0.00394827  0.51219226]\n",
      " [ 0.81262096  0.61252607]\n",
      " [ 0.72175532  0.29187607]\n",
      " [ 0.16911084  0.08833981]\n",
      " [ 0.68535982  0.95339335]\n",
      " [ 0.00394827  0.51219226]\n",
      " [ 0.81262096  0.61252607]\n",
      " [ 0.72175532  0.29187607]]\n"
     ]
    }
   ],
   "source": [
    "print(p[rows.ravel()], end='\\n\\n')\n",
    "print(q[cols.ravel()])"
   ]
  },
  {
   "cell_type": "code",
   "execution_count": 190,
   "metadata": {
    "collapsed": false
   },
   "outputs": [],
   "source": [
    "def with_indices(p, q):\n",
    "    return np.linalg.norm(p[rows] - q[cols], axis=2)"
   ]
  },
  {
   "cell_type": "markdown",
   "metadata": {},
   "source": [
    "### Use a library\n",
    "\n",
    "`scipy` is the equivalent of matlab toolboxes and have a lot to offer. Actually the pairwise computation is part of the library through the `spatial` module."
   ]
  },
  {
   "cell_type": "code",
   "execution_count": 191,
   "metadata": {
    "collapsed": false
   },
   "outputs": [],
   "source": [
    "from scipy.spatial.distance import cdist\n",
    "\n",
    "def scipy_version(p, q):\n",
    "    return cdist(p, q)"
   ]
  },
  {
   "cell_type": "markdown",
   "metadata": {},
   "source": [
    "### Numpy Magic"
   ]
  },
  {
   "cell_type": "code",
   "execution_count": 192,
   "metadata": {
    "collapsed": false
   },
   "outputs": [],
   "source": [
    "def tensor_broadcasting(p, q):\n",
    "    return np.sqrt(np.sum((p[:,np.newaxis,:]-q[np.newaxis,:,:])**2, axis=2))"
   ]
  },
  {
   "cell_type": "markdown",
   "metadata": {},
   "source": [
    "# Compare methods"
   ]
  },
  {
   "cell_type": "code",
   "execution_count": 193,
   "metadata": {
    "collapsed": false
   },
   "outputs": [
    {
     "name": "stdout",
     "output_type": "stream",
     "text": [
      "The slowest run took 7.96 times longer than the fastest. This could mean that an intermediate result is being cached.\n",
      "10000 loops, best of 3: 29.2 µs per loop\n",
      "1000 loops, best of 3: 945 µs per loop\n",
      "100 loops, best of 3: 6.82 ms per loop\n"
     ]
    }
   ],
   "source": [
    "methods = [with_indices, scipy_version, tensor_broadcasting]\n",
    "timers = []\n",
    "for f in methods:\n",
    "    r = %timeit -o f(p_big, q_big)\n",
    "    timers.append(r)"
   ]
  },
  {
   "cell_type": "code",
   "execution_count": 194,
   "metadata": {
    "collapsed": false
   },
   "outputs": [
    {
     "data": {
      "text/plain": [
       "<matplotlib.text.Text at 0x7f40fa119d68>"
      ]
     },
     "execution_count": 194,
     "metadata": {},
     "output_type": "execute_result"
    },
    {
     "data": {
      "image/png": "[encoded data removed]",
      "text/plain": [
       "<matplotlib.figure.Figure at 0x7f40fa1192b0>"
      ]
     },
     "metadata": {},
     "output_type": "display_data"
    }
   ],
   "source": [
    "plt.figure(figsize=(10,6))\n",
    "plt.bar(np.arange(len(methods)), [r.best*1000 for r in timers], log=False)  # Set log to True for logarithmic scale\n",
    "plt.xticks(np.arange(len(methods))+0.2, [f.__name__ for f in methods], rotation=30)\n",
    "plt.xlabel('Method')\n",
    "plt.ylabel('Time (ms)')"
   ]
  },
  {
   "cell_type": "code",
   "execution_count": null,
   "metadata": {
    "collapsed": true
   },
   "outputs": [],
   "source": []
  }
 ],
 "metadata": {
  "anaconda-cloud": {},
  "kernelspec": {
   "display_name": "Python [Root]",
   "language": "python",
   "name": "Python [Root]"
  },
  "language_info": {
   "codemirror_mode": {
    "name": "ipython",
    "version": 3
   },
   "file_extension": ".py",
   "mimetype": "text/x-python",
   "name": "python",
   "nbconvert_exporter": "python",
   "pygments_lexer": "ipython3",
   "version": "3.5.1"
  }
 },
 "nbformat": 4,
 "nbformat_minor": 0
}
